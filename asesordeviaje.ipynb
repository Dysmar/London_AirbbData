{
 "cells": [
  {
   "cell_type": "markdown",
   "metadata": {},
   "source": [
    "# Modelo analítico airb&b LONDRES"
   ]
  },
  {
   "cell_type": "code",
   "execution_count": 5,
   "metadata": {},
   "outputs": [
    {
     "name": "stderr",
     "output_type": "stream",
     "text": [
      "\"[Banner]\" no se reconoce como un comando interno o externo,\n",
      "programa o archivo por lotes ejecutable.\n"
     ]
    }
   ],
   "source": [
    "![Banner](./bannerlondon.jpg)\n"
   ]
  },
  {
   "cell_type": "markdown",
   "metadata": {},
   "source": [
    "Como asesor de viajes con experiencia en análisis de datos, mi objetivo es crear una programación de viaje personalizada para una experiencia atractiva en Londres, utilizando hospedajes en pisos de corta estancia a través de Airbnb. Presentare una estructurar este viaje, con recomendaciones basadas en datos sobre los mejores barrios para hospedarse, los mejores precios y las atracciones clave de la ciudad.\n",
    "\n",
    "Este enfoque no solo ofrece una experiencia de viaje personalizada, sino que también se basa en un análisis de datos efectivo para garantizar que el alojamiento y las actividades sean rentables y satisfactorias para los viajeros."
   ]
  },
  {
   "cell_type": "markdown",
   "metadata": {},
   "source": [
    "Usare Power BI para crear una visualización interactiva que permita explorar la oferta de hospedaje en diferentes zonas de Londres, con datos de Airbnb y la cercanía a puntos clave, es una excelente forma de personalizar la planificación del viaje. Usando un mapa de geolocalización interactivo y aplicando filtros personalizados como segmento de precios, capacidad y barrio.\n",
    "\n",
    "Paso 1: Recolectar y Preparar los Datos, adquiridos de la Base de Datos de propiedades de Airbnb.\n",
    "\n",
    "Los datos deben incluir: ID de propiedad, Dirección o coordenadas (latitud y longitud), Precio por noche, Capacidad máxima, tipo de ptopiedad habitaciones, Barrio o distrito (para filtrar) entre otros.\n",
    "\n"
   ]
  },
  {
   "cell_type": "markdown",
   "metadata": {},
   "source": [
    "Paso 2 :  Identificar Perfil del Viajero, Duración del viaje: 4 noches, Presupuesto: Medio 120,00€ -250,00€ p/noche (entre £100-£200 por noche para hospedaj * 1,20 Euro), Intereses: Cultura, Historia, Arte, Gastronomía. Preferencia de alojamiento: Piso o apartamento de corta estancia en barrios bien conectados y cercanos a puntos turísticos principales. Grupo de viajeros: Puede ser para una pareja, una familia pequeña o un grupo de amigos de hasta 4 Integrantes."
   ]
  },
  {
   "cell_type": "markdown",
   "metadata": {},
   "source": [
    "Paso 3: Crear la Base de Datos en Power BI\n",
    "se tomaron los datos de la del Conjunto de datos proporcionados por AirBnB de la ciudad de Londres [https://insideairbnb.com/london/](https://insideairbnb.com/london/)\n",
    "\n",
    "Una vez que tienes los datos, el siguiente paso es crear un modelo en Power BI:\n",
    "\n",
    "Importa todos los datos a Power BI.\n",
    "Transforma los datos usando el Editor de Power Query para asegurar que la información esté limpia y estructurada correctamente. con coordenadas (latitud, longitud) como texto, separa columnas individuales de Latitud y Longitud.\n",
    "Asegúrar de que las categorías de Precio, Capacidad, y Barrio estén correctamente clasificadas y sin valores nulos.\n",
    "Crea relaciones entre tablas si es necesario. \n",
    "Visualización en Power BI\n",
    "Mapa de Geolocalización Interactivo:\n",
    "\n",
    "En Shape Map, cargar un archivo de GeoJSON para mostrar las fronteras de los 33 distritos y de alli identidifacr los que inluyen los barrios de interes (Covent Garden, Shoreditch, Notting Hill, etc.).\n",
    "Crear filtros interactivos en Power BI, agregando segmentadores (Slicers) que permitan a los usuarios filtrar los datos según las categorías seleccionadas. Los filtros más importantes son:\n",
    "\n",
    "Segmento de precios: Un filtro para el rango de precios, que permita seleccionar un rango de precio por noche.\n",
    "Capacidad: Un filtro para filtrar propiedades según la capacidad máxima de personas (por ejemplo, propiedades para 2, 4 o más personas).\n",
    "Distrito : Un filtro para seleccionar las diferentes zonas clave de Londres como Covent Garden, Shoreditch, Notting Hill, etc.\n",
    "\n",
    "Identificar las ubicaciones que nos interesan evidenciar \n",
    "los barrios mencionados con los distritos de Londres:\n",
    "\n",
    "1. **Covent Garden**  \n",
    "   - Distrito: **Westminster** (parte central).  \n",
    "     Covent Garden está dentro del distrito de Westminster, aunque una pequeña parte puede estar en Camden.\n",
    "\n",
    "2. **Shoreditch**  \n",
    "   - Distrito: **Hackney**.  \n",
    "     Shoreditch está principalmente en el distrito de Hackney, pero también puede extenderse ligeramente hacia Tower Hamlets.\n",
    "\n",
    "3. **Notting Hill**  \n",
    "   - Distrito: **Kensington and Chelsea**.  \n",
    "     Notting Hill es parte del distrito de Kensington and Chelsea.\n",
    "\n",
    "4. **South Bank / Bankside**  \n",
    "   - Distrito: **Southwark**.  \n",
    "     La zona de South Bank y Bankside está en el distrito de Southwark, justo al sur del río Támesis.\n",
    "\n",
    "5. **Kensington**  \n",
    "   - Distrito: **Kensington and Chelsea**.  \n",
    "     Kensington forma parte del mismo distrito que Notting Hill.\n",
    "\n",
    "Utilizando el visual Mapa para representar las ubicaciones geográficas de las propiedades y puntos de interés. Este tipo de mapa permitirá mostrar las propiedades de Airbnb en su ubicación exacta y agregar capas adicionales (como estaciones de transporte y puntos turísticos).\n"
   ]
  },
  {
   "cell_type": "code",
   "execution_count": 9,
   "metadata": {
    "vscode": {
     "languageId": "markdown"
    }
   },
   "outputs": [
    {
     "ename": "SyntaxError",
     "evalue": "invalid decimal literal (1215505577.py, line 5)",
     "output_type": "error",
     "traceback": [
      "\u001b[1;36m  Cell \u001b[1;32mIn[9], line 5\u001b[1;36m\u001b[0m\n\u001b[1;33m    [Ver informe de Power BI](https://app.powerbi.com/links/TVGR9K-gni?ctid=8aebddb6-3418-43a1-a255-b964186ecc64&pbi_source=linkShare)\u001b[0m\n\u001b[1;37m                                                                            ^\u001b[0m\n\u001b[1;31mSyntaxError\u001b[0m\u001b[1;31m:\u001b[0m invalid decimal literal\n"
     ]
    }
   ],
   "source": [
    "### Visualización del informe de Power BI\n",
    "\n",
    "Puedes ver el informe de Power BI en el siguiente enlace:\n",
    "\n",
    "[Ver informe de Power BI](https://app.powerbi.com/links/TVGR9K-gni?ctid=8aebddb6-3418-43a1-a255-b964186ecc64&pbi_source=linkShare)"
   ]
  },
  {
   "cell_type": "markdown",
   "metadata": {},
   "source": [
    "\n",
    "Paso 4: Diseño y Personalización PowerBi\n",
    "Para que el informe sea atractivo y fácil de usar, personaliza la visualización:\n",
    "\n",
    "Agregar un título claro que explique el propósito del informe \n",
    "\"Planificación del viaje a Londres - Alojamiento en Airbnb\".\n",
    "\n",
    "Incluir un mapa interactivo de las zonas recomendadas de Londres con los puntos de interés y las propiedades.\n",
    "\n",
    "Interactividad de los Mapas: Configurar el mapa para que, al hacer clic en una propiedad, se muestren  el ID de la propiedad y  el precio por noche.\n",
    "\n",
    "Filtrar por Barrio: Cuando seleccionas un distrito en el segmentador de Barrio, el mapa debería actualizarse para mostrar solo las propiedades de ese distrito.\n",
    "\n",
    "Explorar los Puntos de Interés: Los puntos turísticos deben estar ubicados en el mapa y permitir que los usuarios vean las distancias a los lugares clave (como el Museo Británico, el Big Ben, etc.)\n",
    "\n",
    "Publicar y Compartir el Informe, Una vez que tu informe esté listo, puedes publicarlo en Power BI Service para compartirlo con tus clientes o integrarlo en un sitio web. Power BI también ofrece la opción de crear informes interactivos para dispositivos móviles, lo que es ideal si tu cliente desea acceder a la información mientras viaja."
   ]
  },
  {
   "cell_type": "code",
   "execution_count": null,
   "metadata": {
    "vscode": {
     "languageId": "markdown"
    }
   },
   "outputs": [],
   "source": [
    "\n",
    "![Imagen de fondo](./Mapa_Londres.jpg)\n"
   ]
  },
  {
   "cell_type": "markdown",
   "metadata": {},
   "source": [
    "###  Alojamiento:\n",
    "\n",
    "Para un viaje de 4 noches en Londres, buscamos pisos en zonas clave de la ciudad con una buena mezcla de accesibilidad, seguridad y cercanía a los principales puntos turísticos. La elección del alojamiento se basa en datos como los costo de alojamiento de Airbnb, la proximidad a estaciones de transporte y la popularidad del barrio.\n",
    "\n",
    "Zonas recomendadas:\n",
    "Covent Garden:\n",
    "\n",
    "Características: Barrio vibrante, lleno de teatros, restaurantes y boutiques. Ideal para turistas que buscan estar cerca de la vida cultural.\n",
    "Precio promedio por noche: £150-£200\n",
    "Tasa de ocupación: Alta, debido a su cercanía con el West End y otras atracciones.\n",
    "Atractivos cercanos: Museo Británico, Teatro, restaurantes y bares.\n",
    "\n",
    "Shoreditch:\n",
    "\n",
    "Características: Barrio moderno y creativo, conocido por su arte callejero, galerías y vida nocturna.\n",
    "Precio promedio por noche: £120-£160\n",
    "Tasa de ocupación: Alta entre los jóvenes y viajeros que buscan una experiencia más bohemia.\n",
    "Atractivos cercanos: Brick Lane, Spitalfields Market, tiendas vintage.\n",
    "\n",
    "Notting Hill:\n",
    "\n",
    "Características: Famoso por sus casas coloridas, mercados, y una atmósfera tranquila pero sofisticada.\n",
    "Precio promedio por noche: £160-£180\n",
    "Tasa de ocupación: Moderada a alta, especialmente en temporada alta.\n",
    "Atractivos cercanos: Mercado de Portobello, tiendas exclusivas.\n",
    "\n",
    "South Bank / Bankside:\n",
    "\n",
    "Características: A orillas del río Támesis, con vistas impresionantes y cercanía a museos y teatros.\n",
    "Precio promedio por noche: £130-£170\n",
    "Tasa de ocupación: Alta por ser una zona muy turística y bien conectada.\n",
    "Atractivos cercanos: Tate Modern, Shakespeare’s Globe, London Eye.\n",
    "\n",
    "Kensington:\n",
    "\n",
    "Características: Zona residencial y tranquila, ideal para quienes buscan una estancia cómoda y relajante.\n",
    "Precio promedio por noche: £180-£220\n",
    "Tasa de ocupación: Moderada a alta.\n",
    "Atractivos cercanos: Museo de Historia Natural, Kensington Gardens, tiendas de lujo."
   ]
  },
  {
   "cell_type": "markdown",
   "metadata": {},
   "source": [
    "Consejos adicionales:\n",
    "Transporte: usa contactless payment para viajar por el transporte público. El metro es muy eficiente y fácil de usar, pero también puedes disfrutar de los famosos autobuses rojos de dos pisos, que son una experiencia divertida para los niños.\n",
    "\n",
    "Ropa cómoda: Londres puede ser impredecible con el clima, así que lleva ropa cómoda y un impermeable por si llueve.\n",
    "\n",
    "Comidas: Londres tiene muchas opciones internacionales y amigables para niños, como Nando’s, Pizza Express y muchos mercados de comida.\n",
    "\n",
    "Este itinerario está diseñado para ofrecer una experiencia equilibrada de turismo, diversión para los niños y cultura para toda la familia."
   ]
  },
  {
   "cell_type": "markdown",
   "metadata": {},
   "source": [
    "Para llegar del aeropuerto de Londres al centro de la ciudad, hay varias opciones de transporte con diferentes niveles de accesibilidad y precios. A continuación, te proporciono información sobre los aeropuertos más comunes (Heathrow, Gatwick, Stansted y London City) y las opciones de transporte disponibles:\n",
    "\n",
    "1. Aeropuerto de Heathrow (LHR)\n",
    "Opciones de transporte:\n",
    "\n",
    "Metro (Piccadilly Line):\n",
    "\n",
    "Accesibilidad: La Piccadilly Line tiene acceso para personas con movilidad reducida, pero algunas estaciones pueden no tener ascensores. Si viajas con cochecito o silla de ruedas, es importante verificar las estaciones y posibles obstáculos.\n",
    "Precio: Aproximadamente £6-£7 por persona (dependiendo de la zona de destino).\n",
    "Tiempo de viaje: Aproximadamente 45-50 minutos hasta el centro de Londres (Estaciones como Green Park, Covent Garden, Piccadilly Circus, etc.).\n",
    "Ventajas: Es económico y relativamente rápido.\n",
    "Heathrow Express (Tren):\n",
    "\n",
    "Accesibilidad: Totalmente accesible para personas con movilidad reducida. Hay ascensores y espacios para sillas de ruedas.\n",
    "Precio: £25 por persona (en billetes estándar) para un trayecto de ida. Si compras con antelación, los precios pueden ser más bajos (alrededor de £20).\n",
    "Tiempo de viaje: 15-20 minutos hasta la estación de Paddington.\n",
    "Ventajas: Rápido, cómodo y directo.\n",
    "Autobuses:\n",
    "\n",
    "Accesibilidad: Los autobuses tienen acceso para personas con movilidad reducida, y muchos ofrecen espacio para cochecitos.\n",
    "Precio: Aproximadamente £6-£10, dependiendo del servicio.\n",
    "Tiempo de viaje: Aproximadamente 40-60 minutos, dependiendo del tráfico.\n",
    "Taxi:\n",
    "\n",
    "Accesibilidad: Los taxis londinenses son completamente accesibles, con espacio para sillas de ruedas y cochecitos. También pueden ser más cómodos para familias con niños pequeños.\n",
    "Precio: Aproximadamente £50-£70, dependiendo del tráfico.\n",
    "Tiempo de viaje: 30-60 minutos, dependiendo del tráfico y la ubicación en Londres.\n",
    "2. Aeropuerto de Gatwick (LGW)\n",
    "Opciones de transporte:\n",
    "\n",
    "Gatwick Express (Tren):\n",
    "\n",
    "Accesibilidad: Totalmente accesible para personas con movilidad reducida.\n",
    "Precio: Alrededor de £19.90 por persona para un trayecto de ida si compras un billete estándar.\n",
    "Tiempo de viaje: 30 minutos hasta Victoria Station.\n",
    "Ventajas: Rápido y directo.\n",
    "Trenes regulares (Southern o Thameslink):\n",
    "\n",
    "Accesibilidad: Accesibles para personas con movilidad reducida.\n",
    "Precio: Aproximadamente £10-£15 por persona, dependiendo de la ruta y la antelación con que compres el billete.\n",
    "Tiempo de viaje: 35-45 minutos dependiendo de la línea y la estación de destino en Londres.\n",
    "Taxi:\n",
    "\n",
    "Accesibilidad: Disponible con vehículos adaptados para sillas de ruedas.\n",
    "Precio: Aproximadamente £90-£110 hasta el centro de Londres.\n",
    "Tiempo de viaje: Aproximadamente 60-90 minutos, dependiendo del tráfico.\n",
    "Autobuses:\n",
    "\n",
    "Accesibilidad: La mayoría de los autobuses son accesibles, con espacio para cochecitos y sillas de ruedas.\n",
    "Precio: Alrededor de £10-£15.\n",
    "Tiempo de viaje: Aproximadamente 1.5 a 2 horas.\n",
    "3. Aeropuerto de Stansted (STN)\n",
    "Opciones de transporte:\n",
    "\n",
    "Stansted Express (Tren):\n",
    "\n",
    "Accesibilidad: Totalmente accesible para personas con movilidad reducida, con ascensores y plataformas elevadas.\n",
    "Precio: Aproximadamente £19 por persona para un trayecto de ida.\n",
    "Tiempo de viaje: 45 minutos hasta Liverpool Street Station.\n",
    "Ventajas: Es la opción más rápida y cómoda.\n",
    "Autobuses:\n",
    "\n",
    "Accesibilidad: Los autobuses tienen espacio para sillas de ruedas y cochecitos.\n",
    "Precio: Alrededor de £6-£10.\n",
    "Tiempo de viaje: 1.5 a 2 horas, dependiendo del tráfico.\n",
    "Taxi:\n",
    "\n",
    "Accesibilidad: Los taxis son accesibles, pero el viaje es largo y costoso.\n",
    "Precio: Aproximadamente £120-£150 hasta el centro de Londres.\n",
    "Tiempo de viaje: 60-90 minutos, dependiendo del tráfico.\n",
    "4. Aeropuerto de London City (LCY)\n",
    "Opciones de transporte:\n",
    "\n",
    "Tren (DLR - Docklands Light Railway):\n",
    "\n",
    "Accesibilidad: Totalmente accesible para personas con movilidad reducida. Los trenes DLR son modernos y tienen ascensores en las estaciones.\n",
    "Precio: Aproximadamente £4-£6 dependiendo de tu destino en Londres.\n",
    "Tiempo de viaje: 20-30 minutos hasta el centro de Londres (por ejemplo, Bank o Canning Town).\n",
    "Ventajas: Económico, rápido y accesible.\n",
    "Taxi:\n",
    "\n",
    "Accesibilidad: Los taxis londinenses son accesibles.\n",
    "Precio: Aproximadamente £30-£40.\n",
    "Tiempo de viaje: 20-30 minutos.\n",
    "Recomendaciones para familias con niños pequeños:\n",
    "Accesibilidad: Las opciones de tren (como el Heathrow Express o Gatwick Express) son muy cómodas, especialmente si viajas con cochecitos. Si tienes un cochecito grande o silla de ruedas, es importante verificar que las estaciones estén adaptadas para su uso (algunas estaciones no tienen ascensores o rampas).\n",
    "\n",
    "Taxis: Son una opción cómoda, especialmente si viajas con mucho equipaje o niños pequeños, pero es más costosa. Los taxis en Londres son bastante espaciosos y aptos para sillas de ruedas.\n",
    "\n",
    "Autobuses: Son una opción económica, pero pueden ser más lentos debido al tráfico, y algunas rutas pueden no ser tan cómodas si hay mucha gente.\n",
    "\n",
    "Conclusión:\n",
    "Para una opción económica y accesible, el metro es una buena opción, aunque depende de las estaciones y la accesibilidad en las plataformas.\n",
    "Para un viaje más rápido y cómodo, el Heathrow Express o el Gatwick Express son excelentes opciones, aunque más caras.\n",
    "Si prefieres comodidad total y no te importa el precio, un taxi es siempre una opción segura y accesible."
   ]
  },
  {
   "cell_type": "markdown",
   "metadata": {},
   "source": [
    "Crear un Mapa de Localización\n",
    "Crear una nueva visualización de mapa:\n",
    "\n",
    "Una vez cargados los datos, selecciona el icono de Mapa o Mapa de forma (dependiendo de la visualización que prefieras) en el panel de visualizaciones, usando el Mapa de forma (Shape Map) es útil para mostrar datos geoespaciales agrupados por áreas administrativas como barrios, distritos o regiones.\n",
    "Asignar las coordenadas (Latitud y Longitud):\n",
    "\n",
    "Si tienes columnas de latitud y longitud, arrástralas a los campos Latitud y Longitud en la visualización de mapa. Esto generará un mapa de dispersión con tus ubicaciones.\n",
    "Configurar la segmentación por Barrio:\n",
    "\n",
    "Para agrupar por barrios, si ya tienes una columna que indique el nombre del barrio, puedes arrastrar esa columna al campo Leyenda o Detalles. Esto creará un mapa en el que cada barrio se representa con diferentes colores o tamaños de puntos (dependiendo del tipo de visualización seleccionada).\n",
    "Si deseas usar un mapa de forma para representar diferentes barrios con diferentes colores, asegúrate de tener un archivo de forma geoespacial (por ejemplo, un archivo de forma .shp o GeoJSON) que contenga los límites de los barrios.\n",
    "\n",
    "Configurar la visualización de Mapa:\n",
    "\n",
    "Si estás utilizando el Mapa de Forma (Shape Map), puedes cargar un archivo de forma que contenga los límites geográficos de los barrios. En este caso, arrastra la columna Barrio al campo correspondiente (por ejemplo, Ubicación o Nombre).\n",
    "Si estás usando un mapa de puntos, puedes configurar el tamaño o color de los puntos en función de alguna métrica (como la cantidad de ubicaciones por barrio).\n",
    "Ajustar el estilo del mapa:\n",
    "\n",
    "Puedes cambiar el estilo del mapa (por ejemplo, satélite, básico, etc.), la paleta de colores, y la apariencia general del gráfico para hacerlo más visualmente atractivo.\n",
    "En el panel de formato, ajusta elementos como la leyenda, los títulos, los colores, las etiquetas de datos y los tamaños de los puntos.\n",
    "Paso 4: Mejorar la Interactividad\n",
    "Filtros y segmentación:\n",
    "\n",
    "Agrega filtros para permitir a los usuarios seleccionar diferentes barrios o un rango de valores en función de algún parámetro (por ejemplo, cantidad de ubicaciones por barrio).\n",
    "Usa segmentaciones de datos para que el usuario pueda interactuar con el mapa y visualizar solo los barrios que le interesen.\n",
    "Detalles y herramientas de visualización:\n",
    "\n",
    "En Power BI, puedes usar las herramientas de tooltip para mostrar información adicional al pasar el mouse sobre una ubicación (por ejemplo, nombre del barrio, cantidad de ubicaciones, etc.).\n",
    "Además, puedes crear gráficos complementarios que muestren más detalles, como una tabla o gráfico de barras con la distribución de las ubicaciones por barrio.\n",
    "Paso 5: Publicar y Compartir\n",
    "Una vez que hayas creado y ajustado el modelo de estudio, puedes:\n",
    "\n",
    "Publicar el informe en el servicio de Power BI para que otros usuarios accedan a él.\n",
    "Compartir el informe mediante un enlace o crear un panel interactivo con visualizaciones dinámicas para los usuarios.\n",
    "Consejos adicionales:\n",
    "Si tienes muchos puntos de ubicación y el mapa se vuelve muy denso, puedes usar técnicas como el clustering (agrupamiento) para reducir la complejidad visual.\n",
    "Utiliza colores o tamaños de puntos para representar diferentes métricas, como el número de ubicaciones o algún indicador relevante dentro de cada barrio."
   ]
  },
  {
   "cell_type": "markdown",
   "metadata": {
    "vscode": {
     "languageId": "plaintext"
    }
   },
   "source": [
    "Puntos de interés turísticos: Obtén las coordenadas de los principales puntos turísticos (Museo Británico, Torre de Londres, Big Ben, etc.) para mostrar las ubicaciones clave a las que los viajeros pueden acceder fácilmente desde las propiedades.\n",
    "\n",
    "Para las estaciones de transporte y puntos turísticos, puedes utilizar datasets disponibles en Open Data o crear un archivo con las coordenadas (latitud y longitud).\n",
    "Si prefieres usar GeoJSON o Shapefiles, estos formatos pueden ser cargados en Power BI para mapas más detallados. Datos de estaciones de transporte: Los datos sobre las estaciones de tren, metro y autobuses cercanas pueden obtenerse de fuentes como OpenStreetMap o sitios oficiales de transporte de Londres. Lo ideal es que incluyas la latitud y longitud de las estaciones principales (como Covent Garden, Shoreditch, Kensington, etc.)."
   ]
  }
 ],
 "metadata": {
  "kernelspec": {
   "display_name": "Python 3",
   "language": "python",
   "name": "python3"
  },
  "language_info": {
   "codemirror_mode": {
    "name": "ipython",
    "version": 3
   },
   "file_extension": ".py",
   "mimetype": "text/x-python",
   "name": "python",
   "nbconvert_exporter": "python",
   "pygments_lexer": "ipython3",
   "version": "3.11.0rc2"
  }
 },
 "nbformat": 4,
 "nbformat_minor": 2
}
